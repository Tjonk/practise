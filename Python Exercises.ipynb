{
 "cells": [
  {
   "cell_type": "markdown",
   "metadata": {},
   "source": [
    "# Exercise 1: Character input"
   ]
  },
  {
   "cell_type": "code",
   "execution_count": null,
   "metadata": {},
   "outputs": [],
   "source": [
    "import time\n",
    "name = input('Give me your name: ')\n",
    "age = int(input('Give me your age: '))\n",
    "year = int(time.strftime(\"%Y\")) + (100-age)\n",
    "print(name + \" will be 100 years old in the year: \" + str(year))"
   ]
  },
  {
   "cell_type": "markdown",
   "metadata": {},
   "source": [
    "# Exercise 2: Odd or Even"
   ]
  },
  {
   "cell_type": "code",
   "execution_count": null,
   "metadata": {},
   "outputs": [],
   "source": [
    "number = int(input(\"Give me a number: \"))\n",
    "modulo = number % 2\n",
    "modulo_4 = number % 4\n",
    "\n",
    "if modulo_4 == 0:\n",
    "    print(str(number) + \" is an even number and a multiple of 4!\")\n",
    "elif modulo == 0:\n",
    "    print(str(number) + \" is an even number!\")\n",
    "else:\n",
    "    print(str(number) + \" is an odd number!\")"
   ]
  },
  {
   "cell_type": "markdown",
   "metadata": {},
   "source": [
    "# Exercise 3: List less than Ten"
   ]
  },
  {
   "cell_type": "code",
   "execution_count": null,
   "metadata": {},
   "outputs": [],
   "source": [
    "number = int(input(\"Give me a number: \"))\n",
    "my_list = [1, 1, 4, 2, 3, 5, 8, 13, 21, 34, 55, 89, 0]\n",
    "x = []\n",
    "\n",
    "# Option 1\n",
    "for element in my_list:\n",
    "    if element < number:\n",
    "        x.append(element)\n",
    "print(x)\n",
    "\n",
    "# Option 2: in a one-liner\n",
    "print([i for i in my_list if i < number])"
   ]
  },
  {
   "cell_type": "markdown",
   "metadata": {},
   "source": [
    "# Exercise 4: Divisors"
   ]
  },
  {
   "cell_type": "code",
   "execution_count": null,
   "metadata": {},
   "outputs": [],
   "source": [
    "number = int(input(\"Pick a number: \"))\n",
    "my_list = list(range(1, number+1))\n",
    "print([i for i in my_list if number % i == 0])"
   ]
  },
  {
   "cell_type": "raw",
   "metadata": {},
   "source": [
    "output = []\n",
    "for element in my_list:\n",
    "    if number % element == 0:\n",
    "        output.append(element)"
   ]
  },
  {
   "cell_type": "markdown",
   "metadata": {},
   "source": [
    "# Exercise 5: List Overlap"
   ]
  },
  {
   "cell_type": "code",
   "execution_count": null,
   "metadata": {},
   "outputs": [],
   "source": [
    "import random\n",
    "a = random.sample(range(30), 10)\n",
    "b = random.sample(range(30), 10)\n",
    "print(a)\n",
    "print(b)\n",
    "max_numb = max([max(a), max(b)])\n",
    "my_list = list(range(1, max_numb+1))\n",
    "output = []\n",
    "print(\"The list with common elements without duplicates:\")\n",
    "print([i for i in my_list if i in a and i in b])"
   ]
  },
  {
   "cell_type": "raw",
   "metadata": {},
   "source": [
    "output = []\n",
    "for element in my_list:\n",
    "    if element in a and element in b:\n",
    "        output.append(element)\n",
    "print(output)"
   ]
  },
  {
   "cell_type": "markdown",
   "metadata": {},
   "source": [
    "# Exercise 6: String Lists"
   ]
  },
  {
   "cell_type": "code",
   "execution_count": null,
   "metadata": {},
   "outputs": [],
   "source": [
    "word = input(\"Pick a word that could be a palindrome: \")\n",
    "if word == word[::-1]:\n",
    "    print(\"This is a palindrome!\")\n",
    "else:\n",
    "    print(\"This is not a palindrome\")"
   ]
  },
  {
   "cell_type": "markdown",
   "metadata": {},
   "source": [
    "# Exercise 7: List Comprehensions"
   ]
  },
  {
   "cell_type": "code",
   "execution_count": null,
   "metadata": {},
   "outputs": [],
   "source": [
    "my_list = [1, 4, 9, 16, 25, 36, 49, 64, 81, 100]\n",
    "print([i for i in my_list if i % 2 == 0])"
   ]
  },
  {
   "cell_type": "raw",
   "metadata": {},
   "source": [
    "for element in my_list:\n",
    "    if element % 2 == 0:\n",
    "        output.append(element)\n",
    "print(output)"
   ]
  },
  {
   "cell_type": "markdown",
   "metadata": {},
   "source": [
    "# Exercise 8: Rock Paper Scissors"
   ]
  },
  {
   "cell_type": "code",
   "execution_count": null,
   "metadata": {},
   "outputs": [],
   "source": [
    "quit_game = \"\"\n",
    "game = 1\n",
    "name_1 = input(\"Player 1 name: \").capitalize()\n",
    "name_2 = input(\"Player 2 name: \").capitalize()\n",
    "while quit_game != \"quit\":\n",
    "    print(\"          *** {} {} ***\".format(\"Game\", game))\n",
    "    player_1 = input(\"%s choose rock, paper or scissors: \" % name_1).lower()\n",
    "    player_2 = input(\"%s choose rock, paper or scissors: \" % name_2).lower()\n",
    "    if player_1 == \"rock\" and player_2 == \"paper\":\n",
    "        print(\"          Congratulations\", name_2,\"you win!\")\n",
    "    elif player_1 == \"rock\" and player_2 == \"scissors\":\n",
    "        print(\"          Congratulations\", name_1, \"you win!\")\n",
    "    elif player_1 == \"paper\" and player_2 == \"rock\":\n",
    "        print(\"          Congratulations\", name_1, \"you win!\")\n",
    "    elif player_1 == \"paper\" and player_2 == \"scissors\":\n",
    "        print(\"          Congratulations\", name_2, \"you win!\")\n",
    "    elif player_1 == \"scissors\" and player_2 == \"rock\":\n",
    "        print(\"          Congratulations\", name_2, \"you win!\")\n",
    "    elif player_1 == \"scissors\" and player_2 == \"paper\":\n",
    "        print(\"          Congratulations\", name_1, \"you win!\")\n",
    "    elif player_1 == \"rock\" and player_2 == \"rock\":\n",
    "        print(\"          Draw!\")\n",
    "    elif player_1 == \"paper\" and player_2 == \"paper\":\n",
    "        print(\"          Draw!\")\n",
    "    elif player_1 == \"scissors\" and player_2 == \"scissors\":\n",
    "        print(\"          Draw!\")\n",
    "    else:\n",
    "        print(\"          Invalid input. Please write down your answer carefully.\")\n",
    "    game += 1\n",
    "    quit_game = input('Type \"quit\" to quit and press enter to play again: ')"
   ]
  },
  {
   "cell_type": "markdown",
   "metadata": {},
   "source": [
    "# Exercise 9: Guessing Game One"
   ]
  },
  {
   "cell_type": "code",
   "execution_count": null,
   "metadata": {},
   "outputs": [],
   "source": [
    "import random\n",
    "number = random.randint(1, 9)\n",
    "quess = input(\"Quess the number between 1 and 9: \")\n",
    "a = 0\n",
    "count = 0\n",
    "while a != 1:\n",
    "    if quess == \"exit\":\n",
    "        a += 1\n",
    "    elif int(quess) == number:\n",
    "        count += 1\n",
    "        print(\"Congratulations, you quessed it right!\")\n",
    "        print(\"Number of quesses is\", count)\n",
    "        a += 1\n",
    "    elif int(quess) > number:\n",
    "        print(\"You quessed too high.\")\n",
    "        count += 1\n",
    "        quess = input(\"Quess again: \")\n",
    "    else:\n",
    "        print(\"You quessed too low.\")\n",
    "        count += 1\n",
    "        quess = input(\"Quess again: \")        "
   ]
  },
  {
   "cell_type": "markdown",
   "metadata": {},
   "source": [
    "# Exercise 10: List Overlap Comprehensions"
   ]
  },
  {
   "cell_type": "markdown",
   "metadata": {},
   "source": [
    "# Exercise 11: Check Primality Functions"
   ]
  },
  {
   "cell_type": "code",
   "execution_count": null,
   "metadata": {},
   "outputs": [],
   "source": [
    "number = int(input(\"Pick a number: \"))\n",
    "my_list = list(range(1, number+1))\n",
    "prime_check = [i for i in my_list if number % i == 0]\n",
    "\n",
    "if prime_check == [1, number]:\n",
    "    print(\"This is a prime number!\")\n",
    "else:\n",
    "    print(\"No primality.\")"
   ]
  },
  {
   "cell_type": "markdown",
   "metadata": {},
   "source": [
    "# Exercise 12: List Ends"
   ]
  },
  {
   "cell_type": "code",
   "execution_count": null,
   "metadata": {},
   "outputs": [],
   "source": [
    "a = [5, 10, 15, 20, 25]\n",
    "\n",
    "def list_ends(x):\n",
    "    return [x[0], x[-1]]\n",
    "\n",
    "list_ends(a)"
   ]
  },
  {
   "cell_type": "markdown",
   "metadata": {},
   "source": [
    "# Exercise 13: Fibonacci"
   ]
  },
  {
   "cell_type": "code",
   "execution_count": null,
   "metadata": {},
   "outputs": [],
   "source": [
    "def F():\n",
    "    numb = int(input(\"How many Fibonacci numbers would you like? \"))\n",
    "    i = 1\n",
    "    if numb == 0:\n",
    "        fib = []\n",
    "    elif numb == 1:\n",
    "        fib = [1]\n",
    "    elif numb == 2:\n",
    "        fib = [1,1]\n",
    "    elif numb > 2:\n",
    "        fib = [1,1]\n",
    "        while i < (numb - 1):\n",
    "            fib.append(fib[i] + fib[i-1])\n",
    "            i += 1\n",
    "    return fib\n",
    "F()"
   ]
  },
  {
   "cell_type": "markdown",
   "metadata": {},
   "source": [
    "# Exercise 14: List Remove Duplicates"
   ]
  },
  {
   "cell_type": "code",
   "execution_count": null,
   "metadata": {},
   "outputs": [],
   "source": [
    "my_list = [1, 1, 2, 3, 3, 4, 5, 5, 6, 6, 7, 8, 8, 8, 9]\n",
    "def rem_dupl(x):\n",
    "    y = list(set(x))\n",
    "    return y\n",
    "rem_dupl(my_list)"
   ]
  },
  {
   "cell_type": "markdown",
   "metadata": {},
   "source": [
    "# Exercise 15: Reverse Word Order"
   ]
  },
  {
   "cell_type": "code",
   "execution_count": null,
   "metadata": {},
   "outputs": [],
   "source": [
    "mystring = \"Welcome to the jungle\"\n",
    "def rev_order(x):\n",
    "    return x.split()[::-1]\n",
    "rev_order(mystring)"
   ]
  },
  {
   "cell_type": "markdown",
   "metadata": {},
   "source": [
    "# Exercise 16: Password Generator"
   ]
  },
  {
   "cell_type": "code",
   "execution_count": null,
   "metadata": {},
   "outputs": [],
   "source": [
    "import random\n",
    "import string\n",
    "import timeit\n",
    "def password_gen():\n",
    "    info = input(\"Would you like a weak or strong password: \")\n",
    "    start = timeit.default_timer()\n",
    "    if info == \"weak\":\n",
    "        list_words = [\"breakdance\", \"skaten\", \"voetballen\", \"motor\", \"escaperoom\", \"parkour\"]\n",
    "        x = \"\".join(random.sample(list_words, 2))\n",
    "    elif info == \"strong\":\n",
    "        x = \"\".join(random.sample(string.ascii_letters + string.digits + string.punctuation, 20))\n",
    "    else:\n",
    "        return \"I didn't get that.. Please choose weak/strong.\"\n",
    "    stop = timeit.default_timer()\n",
    "    y = stop - start\n",
    "    return \"Your password is: \" + x + \" and is generated in \" + str(y) + \" seconds.\"\n",
    "password_gen()"
   ]
  },
  {
   "cell_type": "markdown",
   "metadata": {},
   "source": [
    "# Exercise 17: Decode a Web Page"
   ]
  },
  {
   "cell_type": "code",
   "execution_count": null,
   "metadata": {},
   "outputs": [],
   "source": [
    "import requests\n",
    "from bs4 import BeautifulSoup\n",
    "url = \"http://nytimes.com\"\n",
    "r = requests.get(url)\n",
    "soup = BeautifulSoup(r.text, \"html5lib\")\n",
    "for story_heading in soup.find_all(class_= \"story-heading\"):\n",
    "    if story_heading.a:\n",
    "        print(story_heading.a.text.replace(\"\\n\", \" \").strip())\n",
    "    else:\n",
    "        print(story_heading.contents[0].strip())"
   ]
  },
  {
   "cell_type": "markdown",
   "metadata": {},
   "source": [
    "# Exercise 18: Cows and Bulls"
   ]
  },
  {
   "cell_type": "code",
   "execution_count": null,
   "metadata": {},
   "outputs": [],
   "source": [
    "import random\n",
    "number = str(random.randint(1000, 999999))\n",
    "def cows_bulls():\n",
    "    print(\"          Welcome to the Cows and Bulls game!\")\n",
    "    guess = input(\"Enter a 6-digit number: \")\n",
    "    while len(guess) != 6:\n",
    "        guess = input(\"This is a invalid input, try again: \")\n",
    "    cow = 0\n",
    "    bull = 0\n",
    "    count = 1\n",
    "    while cow != 6:\n",
    "        while len(guess) != 6:\n",
    "            guess = input(\"This is a invalid input, try again: \")\n",
    "        cow = 0\n",
    "        bull = 0\n",
    "        for i in number:\n",
    "            if i in guess:\n",
    "                bull += 1\n",
    "        if guess[0] == number[0]:\n",
    "            cow += 1\n",
    "            bull -= 1\n",
    "        if guess[1] == number[1]:\n",
    "            cow += 1\n",
    "            bull -= 1\n",
    "        if guess[2] == number[2]:\n",
    "            cow += 1\n",
    "            bull -= 1\n",
    "        if guess[3] == number[3]:\n",
    "            cow += 1\n",
    "            bull -= 1\n",
    "        if guess[4] == number[4]:\n",
    "            cow += 1\n",
    "            bull -= 1\n",
    "        if guess[5] == number[5]:\n",
    "            cow += 1\n",
    "            bull -= 1\n",
    "        if cow != 6:\n",
    "            count += 1\n",
    "            print(str(cow) + \" cow and \" + str(bull) + \" bull.\")\n",
    "            guess = input(\"          Guess again: \")\n",
    "        else:\n",
    "            print(str(cow) + \" cow and \" + str(bull) + \" bull.\")\n",
    "            print(\"          Congratulations, that is the right number!\")\n",
    "            print(\"          It only took you \" + str(count) + \" guesses.\")\n",
    "game = cows_bulls()"
   ]
  },
  {
   "cell_type": "markdown",
   "metadata": {},
   "source": [
    "# Exercise 19: Decode a Web Page Two"
   ]
  },
  {
   "cell_type": "code",
   "execution_count": null,
   "metadata": {},
   "outputs": [],
   "source": [
    "import requests\n",
    "from bs4 import BeautifulSoup\n",
    "url = \"https://www.vanityfair.com/style/society/2014/06/monica-lewinsky-humiliation-culture\"\n",
    "r = requests.get(url)\n",
    "soup = BeautifulSoup(r.text, \"html5lib\")\n",
    "for content_section in soup.find_all(class_=\"content-section\"):\n",
    "    decode_webpage_two = content_section.text"
   ]
  },
  {
   "cell_type": "markdown",
   "metadata": {},
   "source": [
    "# Exercise 20: Element Search"
   ]
  },
  {
   "cell_type": "code",
   "execution_count": null,
   "metadata": {},
   "outputs": [],
   "source": [
    "import random\n",
    "\n",
    "my_list = sorted(random.sample(range(0, 30), 20))\n",
    "number = random.randint(0, 30)\n",
    "\n",
    "print(my_list)\n",
    "print(\"The number we are searching is: \" + str(number))\n",
    "\n",
    "def element_search(x, y):\n",
    "    if x in y:\n",
    "        return True\n",
    "    else:\n",
    "        return False\n",
    "\n",
    "test = element_search(x = number, y = my_list)\n",
    "print(test)"
   ]
  },
  {
   "cell_type": "markdown",
   "metadata": {},
   "source": [
    "# Exercise 21: Write to a File"
   ]
  },
  {
   "cell_type": "code",
   "execution_count": null,
   "metadata": {},
   "outputs": [],
   "source": [
    "file_name = input(\"How would you like to name your file: \") + \".txt\"\n",
    "file = open(file_name, \"w\")\n",
    "file.write(decode_webpage_two)\n",
    "file.close()"
   ]
  },
  {
   "cell_type": "markdown",
   "metadata": {},
   "source": [
    "# Exercise 22: Read from File"
   ]
  },
  {
   "cell_type": "code",
   "execution_count": null,
   "metadata": {},
   "outputs": [],
   "source": [
    "file = open(\"names.txt\", \"r\")\n",
    "text = file.read()\n",
    "file.close()\n",
    "text = text.replace(\"\\n\", \" \").split()\n",
    "d = {}\n",
    "for element in text:\n",
    "    if element in d:\n",
    "        d[element] += 1\n",
    "    else:\n",
    "        d[element] = 1\n",
    "print(d)"
   ]
  },
  {
   "cell_type": "markdown",
   "metadata": {},
   "source": [
    "# Exercise 23: File Overlap"
   ]
  },
  {
   "cell_type": "code",
   "execution_count": null,
   "metadata": {},
   "outputs": [],
   "source": [
    "file = open(\"primenumbers.txt\", \"r\")\n",
    "prime = file.read()\n",
    "file.close()\n",
    "file = open(\"happynumbers.txt\", \"r\")\n",
    "happy = file.read()\n",
    "file.close()\n",
    "\n",
    "prime = prime.replace(\"\\n\", \" \").split()\n",
    "happy = happy.replace(\"\\n\", \" \").split()\n",
    "\n",
    "list_overlap = []\n",
    "for element in prime:\n",
    "    if element in happy:\n",
    "        list_overlap.append(element)\n",
    "\n",
    "list_overlap = list(map(int, list_overlap))\n",
    "print(list_overlap)"
   ]
  },
  {
   "cell_type": "code",
   "execution_count": null,
   "metadata": {},
   "outputs": [],
   "source": [
    "primeslist = []\n",
    "with open('primenumbers.txt') as primesfile:\n",
    "\tline = primesfile.readline()\n",
    "\twhile line:\n",
    "\t\tprimeslist.append(int(line))\n",
    "\t\tline = primesfile.readline()\n",
    "\n",
    "happieslist = []\n",
    "with open('happynumbers.txt') as happiesfile:\n",
    "\tline = happiesfile.readline()\n",
    "\twhile line:\n",
    "\t\thappieslist.append(int(line))\n",
    "\t\tline = happiesfile.readline()\n",
    "\n",
    "overlaplist = []\n",
    "for elem in primeslist:\n",
    "\tif elem in happieslist:\n",
    "\t\toverlaplist.append(elem)\n",
    "\t\t\n",
    "print(overlaplist)"
   ]
  },
  {
   "cell_type": "markdown",
   "metadata": {},
   "source": [
    "# Exercise 24: Draw a game board"
   ]
  },
  {
   "cell_type": "code",
   "execution_count": null,
   "metadata": {},
   "outputs": [],
   "source": [
    "size = int(input(\"What size gameboard would you like? \"))\n",
    "\n",
    "# Rows\n",
    "print(\" \" + size*(3*\"-\" + \" \"))\n",
    "print(\"|\" + size*(\"   \" + \"|\"))\n",
    "print(\" \" + size*(3*\"-\" + \" \"))\n",
    "\n",
    "i = 1\n",
    "while i <= size-1:\n",
    "    print(\"|\" + size*(\"   \" + \"|\"))\n",
    "    print(\" \" + size*(3*\"-\" + \" \"))\n",
    "    i += 1\n"
   ]
  },
  {
   "cell_type": "markdown",
   "metadata": {},
   "source": [
    "# Exercise 25: Guessing game two"
   ]
  },
  {
   "cell_type": "code",
   "execution_count": null,
   "metadata": {},
   "outputs": [],
   "source": [
    "def guessing_game2():\n",
    "    print(\"WELCOME TO THE GUESSING GAME PART 2\" + \"\\n\" + \"\\n\" + \"Please pick a number between 0 and 1000.\" + \"\\n\"\n",
    "         + \"I will try to quess your number!\" + \"\\n\" + \"\\n\"\n",
    "         + \"If your number is higher, lower or correct. Let me know by typing it!\" + \"\\n\" + \"\\n\"\n",
    "         + \"I'm guessing your number is 500\")\n",
    "    number = 500\n",
    "    upper_limit = 1001\n",
    "    lower_limit = -1\n",
    "    count = 1\n",
    "    feedback = input(\"Higher/lower/correct: \").lower()\n",
    "    \n",
    "    while feedback != \"correct\":\n",
    "        if feedback == \"higher\":\n",
    "            lower_limit = number\n",
    "            count += 1\n",
    "            number = int((lower_limit + upper_limit)/2)\n",
    "            print(\"I'm guessing your number is \" + str(number))\n",
    "            feedback = input(\"Higher/lower/correct: \").lower()\n",
    "        elif feedback == \"lower\":\n",
    "            upper_limit = number\n",
    "            count += 1\n",
    "            number = int((lower_limit + upper_limit)/2)\n",
    "            print(\"I'm guessing your number is \" + str(number))\n",
    "            feedback = input(\"Higher/lower/correct: \").lower()\n",
    "        else:\n",
    "            print(\"I didn't get that. Please try again.\")\n",
    "            feedback = input(\"Higher/lower/correct: \").lower()\n",
    "    print(\"\\n\" + \"I'm too good. It only took me \"+ str(count) + \" times.\")\n",
    "    \n",
    "    \n",
    "if __name__ == \"__main__\":\n",
    "    guessing_game2()"
   ]
  },
  {
   "cell_type": "markdown",
   "metadata": {},
   "source": [
    "# Exercise 26: Check Tic Tac Toe"
   ]
  },
  {
   "cell_type": "code",
   "execution_count": null,
   "metadata": {},
   "outputs": [],
   "source": [
    "game = [[2, 2, 1],\n",
    "        [1, 1, 2],\n",
    "        [1, 2, 1]]\n",
    "print(game)\n",
    "\n",
    "# Rows\n",
    "if game[0][0] == game[0][1] == game[0][2]: # First row\n",
    "    print(\"The winner is player \" + str(game[0][0]))\n",
    "elif game[1][0] == game[1][1] == game[1][2]: # Second row\n",
    "    print(\"The winner is player \" + str(game[1][0]))\n",
    "elif game[2][0] == game[2][1] == game[2][2]: # Third row\n",
    "    print(\"The winner is player \" + str(game[2][0]))\n",
    "    \n",
    "# Columns\n",
    "elif game[0][0] == game[1][0] == game[2][0]: # First column\n",
    "    print(\"The winner is player \" + str(game[0][0]))\n",
    "elif game[0][1] == game[1][1] == game[2][1]: # Second column\n",
    "    print(\"The winner is player \" + str(game[0][1]))\n",
    "elif game[0][2] == game[1][2] == game[2][2]: # Third column\n",
    "    print(\"The winner is player \" + str(game[0][2]))\n",
    "    \n",
    "# Diagonals\n",
    "elif game[0][0] == game[1][1] == game[2][2]: # First diagonal\n",
    "    print(\"The winner is player \" + str(game[0][0]))\n",
    "elif game[0][2] == game[1][1] == game[2][0]: # Second diagonal\n",
    "    print(\"The winner is player \" + str(game[0][2]))\n"
   ]
  },
  {
   "cell_type": "code",
   "execution_count": null,
   "metadata": {},
   "outputs": [],
   "source": [
    "import numpy\n",
    "game = [[2, 2, 1],\n",
    "        [1, 1, 2],\n",
    "        [1, 2, 1]]\n",
    "set_r = ()\n",
    "set_c = ()\n",
    "\n",
    "def line_match(game):\n",
    "    for i in range(3):\n",
    "        set_r = set(game[i])\n",
    "        if len(set_r) == 1 and game[i][0] != 0:\n",
    "            return game[i][0]\n",
    "\n",
    "    # Transposed column function for future use\n",
    "    trans = numpy.transpose(game)\n",
    "    for i in range(3):\n",
    "        set_r = set(trans[i])\n",
    "        if len(set_r) == 1 and trans[i][0] != 0:\n",
    "            return trans[i][0]\n",
    "    return 0\n",
    "\n",
    "def diagonal_match(game):\n",
    "    if game[1][1] != 0:\n",
    "        if game[1][1] == game[0][0] == game[2][2]:\n",
    "            return game[1][1]\n",
    "        elif game[1][1] == game[0][2] == game[2][0]:\n",
    "            return game[1][1]\n",
    "    return 0\n",
    "\n",
    "if line_match(game) > 0:\n",
    "    print(str(line_match(game)) + str(\" row wins!\"))\n",
    "if diagonal_match(game) > 0:\n",
    "    print(str(diagonal_match(game)) + str(\" diagonal wins!\"))  "
   ]
  },
  {
   "cell_type": "markdown",
   "metadata": {},
   "source": [
    "# Exercise 27: Tic Tac Toe Draw"
   ]
  },
  {
   "cell_type": "code",
   "execution_count": null,
   "metadata": {},
   "outputs": [],
   "source": [
    "def tictactoe():\n",
    "    print(\"WELCOME TO THE TIC TAC TOE GAME!\" + \"\\n\" + \"\\n\"\n",
    "         + \"If you want to place your piece on the gameboard, you need to give me the coordinates.\" + \"\\n\"\n",
    "         + \"You can write me the coordinates like this: 1,3\" + \"\\n\"\n",
    "         + \"This will place your piece in the first row and in the third column.\" + \"\\n\" + \"\\n\"\n",
    "         + \"Let's play a game!\" + \"\\n\" + \"\\n\")\n",
    "    \n",
    "    game = [[0, 0, 0],\n",
    "            [0, 0, 0],\n",
    "            [0, 0, 0]]\n",
    "    turn = [1, 2, 1, 2, 1, 2, 1, 2, 1]\n",
    "    for i in turn:\n",
    "        succesful = False\n",
    "        while not succesful:\n",
    "            player = list(map(int, input(\"Player \" + str(i) + \" place your piece: \").split(\",\")))\n",
    "            if len(player) == 2 and player[0] in range(1,4) and player[1] in range(1,4):\n",
    "                if game[player[0]-1][player[1]-1] == 0:\n",
    "                    game[player[0]-1][player[1]-1] = i\n",
    "                    print(game)\n",
    "                    succesful = True\n",
    "                else:\n",
    "                    print(\"That spot is already taken. Place your piece on a free spot.\")\n",
    "            else:\n",
    "                print(\"Please write down a valid input.\")\n",
    "    return game\n",
    "\n",
    "tictactoe()"
   ]
  },
  {
   "cell_type": "markdown",
   "metadata": {},
   "source": [
    "# Exercise 28: Max of Three"
   ]
  },
  {
   "cell_type": "code",
   "execution_count": 6,
   "metadata": {},
   "outputs": [
    {
     "data": {
      "text/plain": [
       "3"
      ]
     },
     "execution_count": 6,
     "metadata": {},
     "output_type": "execute_result"
    }
   ],
   "source": [
    "def tjonk_max(x, y, z):\n",
    "    \"\"\"Returns the highest value of the three variables\"\"\"\n",
    "    if x >= y and x >= z:\n",
    "        return x\n",
    "    elif y >= x and y >= z:\n",
    "        return y\n",
    "    elif z >= x and z >= y:\n",
    "        return z\n",
    "    \n",
    "tjonk_max(1, 2, 3)"
   ]
  },
  {
   "cell_type": "code",
   "execution_count": null,
   "metadata": {},
   "outputs": [],
   "source": []
  },
  {
   "cell_type": "code",
   "execution_count": null,
   "metadata": {},
   "outputs": [],
   "source": []
  },
  {
   "cell_type": "code",
   "execution_count": null,
   "metadata": {},
   "outputs": [],
   "source": []
  },
  {
   "cell_type": "code",
   "execution_count": null,
   "metadata": {},
   "outputs": [],
   "source": []
  }
 ],
 "metadata": {
  "kernelspec": {
   "display_name": "Python 3",
   "language": "python",
   "name": "python3"
  },
  "language_info": {
   "codemirror_mode": {
    "name": "ipython",
    "version": 3
   },
   "file_extension": ".py",
   "mimetype": "text/x-python",
   "name": "python",
   "nbconvert_exporter": "python",
   "pygments_lexer": "ipython3",
   "version": "3.6.5"
  }
 },
 "nbformat": 4,
 "nbformat_minor": 2
}
